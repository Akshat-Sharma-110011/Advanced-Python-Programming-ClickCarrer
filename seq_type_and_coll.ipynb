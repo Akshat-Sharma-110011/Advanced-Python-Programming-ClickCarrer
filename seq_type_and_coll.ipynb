{
 "cells": [
  {
   "metadata": {
    "ExecuteTime": {
     "end_time": "2025-05-02T23:34:54.049212Z",
     "start_time": "2025-05-02T23:34:53.832718Z"
    }
   },
   "cell_type": "code",
   "source": "import numpy as np",
   "id": "a6df4bcb98a03ce5",
   "outputs": [],
   "execution_count": 7
  },
  {
   "cell_type": "code",
   "id": "initial_id",
   "metadata": {
    "collapsed": true,
    "ExecuteTime": {
     "end_time": "2025-05-02T23:41:52.935128Z",
     "start_time": "2025-05-02T23:41:52.930259Z"
    }
   },
   "source": "dict1 = {'raghav': 9}",
   "outputs": [],
   "execution_count": 18
  },
  {
   "metadata": {
    "ExecuteTime": {
     "end_time": "2025-05-02T23:37:24.637882Z",
     "start_time": "2025-05-02T23:37:24.631447Z"
    }
   },
   "cell_type": "code",
   "source": "set2 = {1,2,3,4,5,6,8,1,2,3}",
   "id": "90f29b2bc4066a4c",
   "outputs": [],
   "execution_count": 13
  },
  {
   "metadata": {
    "ExecuteTime": {
     "end_time": "2025-05-02T23:42:04.147926Z",
     "start_time": "2025-05-02T23:42:04.136197Z"
    }
   },
   "cell_type": "code",
   "source": "dict1['raghav']",
   "id": "21e5a851fdbf4bab",
   "outputs": [
    {
     "data": {
      "text/plain": [
       "9"
      ]
     },
     "execution_count": 19,
     "metadata": {},
     "output_type": "execute_result"
    }
   ],
   "execution_count": 19
  },
  {
   "metadata": {
    "ExecuteTime": {
     "end_time": "2025-05-02T23:37:37.025894Z",
     "start_time": "2025-05-02T23:37:37.015161Z"
    }
   },
   "cell_type": "code",
   "source": "set2",
   "id": "2ce0925c19aa384",
   "outputs": [
    {
     "data": {
      "text/plain": [
       "{1, 2, 3, 4, 5, 6, 8}"
      ]
     },
     "execution_count": 16,
     "metadata": {},
     "output_type": "execute_result"
    }
   ],
   "execution_count": 16
  },
  {
   "metadata": {
    "ExecuteTime": {
     "end_time": "2025-05-02T23:38:37.056855Z",
     "start_time": "2025-05-02T23:38:37.025263Z"
    }
   },
   "cell_type": "code",
   "source": "set1[1]",
   "id": "d817b96ac3071f4b",
   "outputs": [
    {
     "ename": "TypeError",
     "evalue": "'set' object is not subscriptable",
     "output_type": "error",
     "traceback": [
      "\u001B[1;31m---------------------------------------------------------------------------\u001B[0m",
      "\u001B[1;31mTypeError\u001B[0m                                 Traceback (most recent call last)",
      "Cell \u001B[1;32mIn[17], line 1\u001B[0m\n\u001B[1;32m----> 1\u001B[0m set1[\u001B[38;5;241m1\u001B[39m]\n",
      "\u001B[1;31mTypeError\u001B[0m: 'set' object is not subscriptable"
     ]
    }
   ],
   "execution_count": 17
  },
  {
   "metadata": {
    "ExecuteTime": {
     "end_time": "2025-05-02T23:54:15.797447Z",
     "start_time": "2025-05-02T23:54:15.791465Z"
    }
   },
   "cell_type": "code",
   "source": "dict3 = {'Names': ('Akshat', 'Raghav', 'SV', 'Rohit'), 'Marks': {'Akshat': [97,23,75,90,26], 'Raghav': [97,23,75,90,100], 'SV': [97,23,75,90,26], 'Rohit': [97,23,75,90,26]}}",
   "id": "aba1738eafef3bb7",
   "outputs": [],
   "execution_count": 38
  },
  {
   "metadata": {
    "ExecuteTime": {
     "end_time": "2025-05-02T23:54:15.996388Z",
     "start_time": "2025-05-02T23:54:15.986752Z"
    }
   },
   "cell_type": "code",
   "source": "dict3['Marks']['Raghav'][4]",
   "id": "fd951ee3ba23f1d6",
   "outputs": [
    {
     "data": {
      "text/plain": [
       "100"
      ]
     },
     "execution_count": 39,
     "metadata": {},
     "output_type": "execute_result"
    }
   ],
   "execution_count": 39
  },
  {
   "metadata": {
    "ExecuteTime": {
     "end_time": "2025-05-02T23:54:16.614385Z",
     "start_time": "2025-05-02T23:54:16.607840Z"
    }
   },
   "cell_type": "code",
   "source": "dict3['Marks']['Raghav'] [4]",
   "id": "a322cab67468ff76",
   "outputs": [
    {
     "data": {
      "text/plain": [
       "100"
      ]
     },
     "execution_count": 40,
     "metadata": {},
     "output_type": "execute_result"
    }
   ],
   "execution_count": 40
  },
  {
   "metadata": {
    "ExecuteTime": {
     "end_time": "2025-05-02T23:57:18.327991Z",
     "start_time": "2025-05-02T23:57:18.322887Z"
    }
   },
   "cell_type": "code",
   "source": [
    "def add(a, b):\n",
    "    return a + b"
   ],
   "id": "1df6f2bdf2bf85f4",
   "outputs": [],
   "execution_count": 45
  },
  {
   "metadata": {
    "ExecuteTime": {
     "end_time": "2025-05-02T23:57:26.345412Z",
     "start_time": "2025-05-02T23:57:26.338379Z"
    }
   },
   "cell_type": "code",
   "source": "c = add(1,5)",
   "id": "aed24fcf060648e1",
   "outputs": [],
   "execution_count": 46
  },
  {
   "metadata": {
    "ExecuteTime": {
     "end_time": "2025-05-03T00:02:50.415121Z",
     "start_time": "2025-05-03T00:02:50.408117Z"
    }
   },
   "cell_type": "code",
   "source": [
    "def countdown(n):\n",
    "    print(n)\n",
    "    if n == 0:\n",
    "        print(\"Missile Launch\")\n",
    "    else:\n",
    "        countdown(n-1)"
   ],
   "id": "fc8e18ca49e4d202",
   "outputs": [],
   "execution_count": 49
  },
  {
   "metadata": {
    "ExecuteTime": {
     "end_time": "2025-05-03T00:02:51.152236Z",
     "start_time": "2025-05-03T00:02:51.144367Z"
    }
   },
   "cell_type": "code",
   "source": "countdown(5)",
   "id": "1c26367b2b2aef47",
   "outputs": [
    {
     "name": "stdout",
     "output_type": "stream",
     "text": [
      "5\n",
      "4\n",
      "3\n",
      "2\n",
      "1\n",
      "0\n",
      "Missile Launch\n"
     ]
    }
   ],
   "execution_count": 50
  },
  {
   "metadata": {},
   "cell_type": "code",
   "outputs": [],
   "execution_count": null,
   "source": "",
   "id": "a3de6a1253e934bb"
  }
 ],
 "metadata": {
  "kernelspec": {
   "display_name": "Python [conda env:base] *",
   "language": "python",
   "name": "conda-base-py"
  },
  "language_info": {
   "codemirror_mode": {
    "name": "ipython",
    "version": 2
   },
   "file_extension": ".py",
   "mimetype": "text/x-python",
   "name": "python",
   "nbconvert_exporter": "python",
   "pygments_lexer": "ipython2",
   "version": "2.7.6"
  }
 },
 "nbformat": 4,
 "nbformat_minor": 5
}
