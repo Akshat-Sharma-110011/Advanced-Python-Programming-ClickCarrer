{
 "cells": [
  {
   "cell_type": "code",
   "id": "initial_id",
   "metadata": {
    "collapsed": true,
    "ExecuteTime": {
     "end_time": "2025-05-06T11:42:05.414224Z",
     "start_time": "2025-05-06T11:42:05.406457Z"
    }
   },
   "source": "gradebook: dict = {}",
   "outputs": [],
   "execution_count": 13
  },
  {
   "metadata": {
    "ExecuteTime": {
     "end_time": "2025-05-06T11:42:05.747683Z",
     "start_time": "2025-05-06T11:42:05.743572Z"
    }
   },
   "cell_type": "code",
   "source": [
    "name: str = \"\"\n",
    "roll_no: int\n",
    "mark: int\n",
    "grade: str = \"\"\n",
    "total_marks: int\n",
    "avg_marks: float\n",
    "promoted: bool"
   ],
   "id": "db2aeebe5aaa244b",
   "outputs": [],
   "execution_count": 14
  },
  {
   "metadata": {
    "ExecuteTime": {
     "end_time": "2025-05-06T11:42:06.103646Z",
     "start_time": "2025-05-06T11:42:06.100105Z"
    }
   },
   "cell_type": "code",
   "source": "roll_call: tuple = (101,102,103,104,105,106)",
   "id": "c2f40af84f7a664c",
   "outputs": [],
   "execution_count": 15
  },
  {
   "metadata": {
    "ExecuteTime": {
     "end_time": "2025-05-06T11:45:02.027932Z",
     "start_time": "2025-05-06T11:42:06.635609Z"
    }
   },
   "cell_type": "code",
   "source": [
    "marks: list = []\n",
    "grades: list = []\n",
    "names: list = []\n",
    "\n",
    "for roll in roll_call:\n",
    "    name_per_roll = input(\"Enter name: \")\n",
    "    for i in range(5):\n",
    "        mark_per_roll = input(f\"Enter marks for subject {i+1}: \")\n",
    "        marks.append(mark_per_roll)\n",
    "\n",
    "    names.append(name_per_roll)"
   ],
   "id": "2637caed9257e1a5",
   "outputs": [],
   "execution_count": 16
  },
  {
   "metadata": {
    "ExecuteTime": {
     "end_time": "2025-05-06T11:45:09.888596Z",
     "start_time": "2025-05-06T11:45:09.881965Z"
    }
   },
   "cell_type": "code",
   "source": "marks",
   "id": "6585c4cb64f90c78",
   "outputs": [
    {
     "data": {
      "text/plain": [
       "['99',\n",
       " '98',\n",
       " '97',\n",
       " '100',\n",
       " '89',\n",
       " '89',\n",
       " '68',\n",
       " '78',\n",
       " '99',\n",
       " '100',\n",
       " '10',\n",
       " '20',\n",
       " '30',\n",
       " '40',\n",
       " '50',\n",
       " '50',\n",
       " '50',\n",
       " '50',\n",
       " '50',\n",
       " '50',\n",
       " '70',\n",
       " '90',\n",
       " '98',\n",
       " '88',\n",
       " '77',\n",
       " '30',\n",
       " '40',\n",
       " '54',\n",
       " '54',\n",
       " '76']"
      ]
     },
     "execution_count": 17,
     "metadata": {},
     "output_type": "execute_result"
    }
   ],
   "execution_count": 17
  },
  {
   "metadata": {
    "ExecuteTime": {
     "end_time": "2025-05-06T11:46:18.513116Z",
     "start_time": "2025-05-06T11:46:18.508740Z"
    }
   },
   "cell_type": "code",
   "source": "names",
   "id": "bb04d0ca2184e46a",
   "outputs": [
    {
     "data": {
      "text/plain": [
       "['Akshat', 'Raghav', 'SV', 'Rohit', 'Maven', 'Rishab']"
      ]
     },
     "execution_count": 18,
     "metadata": {},
     "output_type": "execute_result"
    }
   ],
   "execution_count": 18
  },
  {
   "metadata": {
    "ExecuteTime": {
     "end_time": "2025-05-06T12:05:29.509365Z",
     "start_time": "2025-05-06T12:05:29.504459Z"
    }
   },
   "cell_type": "code",
   "source": [
    "k = -1\n",
    "for i in range(6):\n",
    "    n = names[i]\n",
    "    print(n)\n",
    "    m_lst = []  # Create a new list for each student\n",
    "    for j in range(5):\n",
    "        k += 1\n",
    "        m = marks[k]\n",
    "        m_lst.append(m)\n",
    "    gradebook[n] = m_lst.copy()  # Store a copy of the list\n",
    "    print(m_lst)"
   ],
   "id": "b42d7817d6dce967",
   "outputs": [
    {
     "name": "stdout",
     "output_type": "stream",
     "text": [
      "Akshat\n",
      "['99', '98', '97', '100', '89']\n",
      "Raghav\n",
      "['89', '68', '78', '99', '100']\n",
      "SV\n",
      "['10', '20', '30', '40', '50']\n",
      "Rohit\n",
      "['50', '50', '50', '50', '50']\n",
      "Maven\n",
      "['70', '90', '98', '88', '77']\n",
      "Rishab\n",
      "['30', '40', '54', '54', '76']\n"
     ]
    }
   ],
   "execution_count": 31
  },
  {
   "metadata": {
    "ExecuteTime": {
     "end_time": "2025-05-06T12:05:31.857591Z",
     "start_time": "2025-05-06T12:05:31.852310Z"
    }
   },
   "cell_type": "code",
   "source": "gradebook",
   "id": "bb50ba4aa6b040b9",
   "outputs": [
    {
     "data": {
      "text/plain": [
       "{'Akshat': ['99', '98', '97', '100', '89'],\n",
       " 'Raghav': ['89', '68', '78', '99', '100'],\n",
       " 'SV': ['10', '20', '30', '40', '50'],\n",
       " 'Rohit': ['50', '50', '50', '50', '50'],\n",
       " 'Maven': ['70', '90', '98', '88', '77'],\n",
       " 'Rishab': ['30', '40', '54', '54', '76']}"
      ]
     },
     "execution_count": 32,
     "metadata": {},
     "output_type": "execute_result"
    }
   ],
   "execution_count": 32
  },
  {
   "metadata": {},
   "cell_type": "code",
   "outputs": [],
   "execution_count": null,
   "source": "",
   "id": "3b985d97d9833d1f"
  }
 ],
 "metadata": {
  "kernelspec": {
   "display_name": "Python [conda env:base] *",
   "language": "python",
   "name": "conda-base-py"
  },
  "language_info": {
   "codemirror_mode": {
    "name": "ipython",
    "version": 2
   },
   "file_extension": ".py",
   "mimetype": "text/x-python",
   "name": "python",
   "nbconvert_exporter": "python",
   "pygments_lexer": "ipython2",
   "version": "2.7.6"
  }
 },
 "nbformat": 4,
 "nbformat_minor": 5
}
