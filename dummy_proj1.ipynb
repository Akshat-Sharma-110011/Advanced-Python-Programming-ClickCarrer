{
 "cells": [
  {
   "cell_type": "code",
   "id": "initial_id",
   "metadata": {
    "collapsed": true,
    "ExecuteTime": {
     "end_time": "2025-05-02T22:00:54.166827Z",
     "start_time": "2025-05-02T22:00:54.151892Z"
    }
   },
   "source": [
    "import sys\n",
    "from tabulate import tabulate"
   ],
   "outputs": [],
   "execution_count": 1
  },
  {
   "metadata": {
    "ExecuteTime": {
     "end_time": "2025-05-02T22:01:39.602847Z",
     "start_time": "2025-05-02T22:01:39.598325Z"
    }
   },
   "cell_type": "code",
   "source": "gradebook: dict = {}",
   "id": "bc9f1189b8e3b96f",
   "outputs": [],
   "execution_count": 2
  },
  {
   "metadata": {
    "ExecuteTime": {
     "end_time": "2025-05-02T22:04:19.780443Z",
     "start_time": "2025-05-02T22:04:19.774853Z"
    }
   },
   "cell_type": "code",
   "source": [
    "def add_student():\n",
    "    name = input(\"Enter Student name: \").strip()\n",
    "    grades = input(\"Enter Student Grades seperated by comma: \").split(',')\n",
    "    try:\n",
    "        grades = [float(g.strip()) for g in grades]\n",
    "    except ValueError:\n",
    "        print(\"Invalid grades\")\n",
    "        return\n",
    "    gradebook[name] = grades\n",
    "    print(\"Student {} added to gradebook\".format(name))"
   ],
   "id": "6ad3e3ec0632fbec",
   "outputs": [],
   "execution_count": 3
  },
  {
   "metadata": {
    "ExecuteTime": {
     "end_time": "2025-05-02T22:06:25.071061Z",
     "start_time": "2025-05-02T22:06:25.066897Z"
    }
   },
   "cell_type": "code",
   "source": [
    "def view_student():\n",
    "    if not gradebook:\n",
    "        print(\"No grades entered\")\n",
    "        return\n",
    "    table = [[name, grade, sum(grade)/len(grade)] for name, grade in gradebook.items()]\n",
    "    print(tabulate(table, headers = ['Name', 'Grade', 'Average']))"
   ],
   "id": "3157a79067257686",
   "outputs": [],
   "execution_count": 5
  },
  {
   "metadata": {
    "ExecuteTime": {
     "end_time": "2025-05-02T22:08:33.327053Z",
     "start_time": "2025-05-02T22:08:33.321898Z"
    }
   },
   "cell_type": "code",
   "source": [
    "def top_performer():\n",
    "    if not gradebook:\n",
    "        print(\"No grades entered\")\n",
    "        return\n",
    "    top = max(gradebook.items(), key=lambda x: sum(x[1])/len(x[1]))\n",
    "    print(\"Top performer: {} with average {}\".format(top[0], sum(top[1])/len(top[1])))"
   ],
   "id": "a7845f4a3c57f83e",
   "outputs": [],
   "execution_count": 6
  },
  {
   "metadata": {
    "ExecuteTime": {
     "end_time": "2025-05-02T22:10:52.350463Z",
     "start_time": "2025-05-02T22:10:52.346007Z"
    }
   },
   "cell_type": "code",
   "source": [
    "def export_data():\n",
    "    with open(\"grades.txt\", \"w\") as csvfile:\n",
    "        for name, grade in gradebook.items():\n",
    "            csvfile.write(f'{name}: {grade}, Average: {sum(grade)/len(grade)}\\n')\n",
    "    print(\"Grades exported\")"
   ],
   "id": "16842c3182a686f2",
   "outputs": [],
   "execution_count": 7
  },
  {
   "metadata": {
    "ExecuteTime": {
     "end_time": "2025-05-02T22:11:31.635861Z",
     "start_time": "2025-05-02T22:11:31.631493Z"
    }
   },
   "cell_type": "code",
   "source": [
    "def menu():\n",
    "    print(\"\\n----Student Gradebook----\")\n",
    "    print(\"1. Add Student\")\n",
    "    print(\"2. View Student\")\n",
    "    print(\"3. Top Performer\")\n",
    "    print(\"4. Export data\")\n",
    "    print(\"5. Exit\")"
   ],
   "id": "3f1fd3a771f8307c",
   "outputs": [],
   "execution_count": 8
  },
  {
   "metadata": {
    "ExecuteTime": {
     "end_time": "2025-05-02T22:12:27.064771Z",
     "start_time": "2025-05-02T22:12:27.059984Z"
    }
   },
   "cell_type": "code",
   "source": [
    "def main():\n",
    "    while True:\n",
    "        menu()\n",
    "        choice = input(\"Enter your choice: \")\n",
    "        if choice == \"1\":\n",
    "            add_student()\n",
    "        elif choice == \"2\":\n",
    "            view_student()\n",
    "        elif choice == \"3\":\n",
    "            top_performer()\n",
    "        elif choice == \"4\":\n",
    "            export_data()\n",
    "        elif choice == \"5\":\n",
    "            print(\"Goodbye\")\n",
    "            sys.exit()\n",
    "        else:\n",
    "            print(\"Invalid choice\")"
   ],
   "id": "ef53fd7a0a3e3b5a",
   "outputs": [],
   "execution_count": 9
  },
  {
   "metadata": {
    "ExecuteTime": {
     "end_time": "2025-05-02T22:14:08.014445Z",
     "start_time": "2025-05-02T22:13:14.978841Z"
    }
   },
   "cell_type": "code",
   "source": [
    "if __name__ == \"__main__\":\n",
    "    main()"
   ],
   "id": "346542fe79384352",
   "outputs": [
    {
     "name": "stdout",
     "output_type": "stream",
     "text": [
      "\n",
      "----Student Gradebook----\n",
      "1. Add Student\n",
      "2. View Student\n",
      "3. Top Performer\n",
      "4. Export data\n",
      "5. Exit\n",
      "Student Akshat added to gradebook\n",
      "\n",
      "----Student Gradebook----\n",
      "1. Add Student\n",
      "2. View Student\n",
      "3. Top Performer\n",
      "4. Export data\n",
      "5. Exit\n",
      "Name    Grade                             Average\n",
      "------  ------------------------------  ---------\n",
      "Akshat  [90.0, 91.0, 86.0, 77.0, 94.0]       87.6\n",
      "\n",
      "----Student Gradebook----\n",
      "1. Add Student\n",
      "2. View Student\n",
      "3. Top Performer\n",
      "4. Export data\n",
      "5. Exit\n",
      "Top performer: Akshat with average 87.6\n",
      "\n",
      "----Student Gradebook----\n",
      "1. Add Student\n",
      "2. View Student\n",
      "3. Top Performer\n",
      "4. Export data\n",
      "5. Exit\n",
      "Grades exported\n",
      "\n",
      "----Student Gradebook----\n",
      "1. Add Student\n",
      "2. View Student\n",
      "3. Top Performer\n",
      "4. Export data\n",
      "5. Exit\n",
      "Goodbye\n"
     ]
    },
    {
     "ename": "SystemExit",
     "evalue": "",
     "output_type": "error",
     "traceback": [
      "An exception has occurred, use %tb to see the full traceback.\n",
      "\u001B[1;31mSystemExit\u001B[0m\n"
     ]
    },
    {
     "name": "stderr",
     "output_type": "stream",
     "text": [
      "C:\\Users\\Akshay\\anaconda3\\Lib\\site-packages\\IPython\\core\\interactiveshell.py:3585: UserWarning: To exit: use 'exit', 'quit', or Ctrl-D.\n",
      "  warn(\"To exit: use 'exit', 'quit', or Ctrl-D.\", stacklevel=1)\n"
     ]
    }
   ],
   "execution_count": 11
  },
  {
   "metadata": {},
   "cell_type": "code",
   "outputs": [],
   "execution_count": null,
   "source": "",
   "id": "5070d2c85da1696b"
  }
 ],
 "metadata": {
  "kernelspec": {
   "display_name": "Python [conda env:base] *",
   "language": "python",
   "name": "conda-base-py"
  },
  "language_info": {
   "codemirror_mode": {
    "name": "ipython",
    "version": 2
   },
   "file_extension": ".py",
   "mimetype": "text/x-python",
   "name": "python",
   "nbconvert_exporter": "python",
   "pygments_lexer": "ipython2",
   "version": "2.7.6"
  }
 },
 "nbformat": 4,
 "nbformat_minor": 5
}
